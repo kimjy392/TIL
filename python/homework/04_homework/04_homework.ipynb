{
 "cells": [
  {
   "cell_type": "markdown",
   "metadata": {},
   "source": [
    "# Python 4. 함수 2\n",
    "\n",
    "1. Python에서 변수를 찾을 때 접근하는 이름 공간을 순서대로 작성하시오\n",
    "\n",
    " * Local scope: 정의된 함수\n",
    "\n",
    " * Enclosed scope: 상위 함수\n",
    "\n",
    " * Global scope: 함수 밖의 변수 혹은 import된 모듈\n",
    "\n",
    " * Built-in scope: 파이썬안에 내장되어 있는 함수 또는 속성\n",
    "\n",
    "\n",
    "2. 다음 중 옳지 않은 것을 고르시오.\n",
    " * 1번, 하나의 객체만 반환할 수 있고 return a, b 처럼 사용하여 튜플형태로 반환한다.\n",
    " \n",
    " \n",
    "3. 재귀 함수를 쓰는 장점과 단점을 작성하시오.\n",
    " * 재귀함수의 장점으로는 코드가 간단하고 직관적이지만 stack overflow가 발생하기 쉽고 실행속도가 느리다는 단점이 있다."
   ]
  }
 ],
 "metadata": {
  "kernelspec": {
   "display_name": "Python 3",
   "language": "python",
   "name": "python3"
  },
  "language_info": {
   "codemirror_mode": {
    "name": "ipython",
    "version": 3
   },
   "file_extension": ".py",
   "mimetype": "text/x-python",
   "name": "python",
   "nbconvert_exporter": "python",
   "pygments_lexer": "ipython3",
   "version": "3.7.3"
  },
  "toc": {
   "base_numbering": 1,
   "nav_menu": {},
   "number_sections": true,
   "sideBar": true,
   "skip_h1_title": false,
   "title_cell": "Table of Contents",
   "title_sidebar": "Contents",
   "toc_cell": false,
   "toc_position": {},
   "toc_section_display": true,
   "toc_window_display": false
  }
 },
 "nbformat": 4,
 "nbformat_minor": 2
}
