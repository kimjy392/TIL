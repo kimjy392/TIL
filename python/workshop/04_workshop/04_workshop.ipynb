{
 "cells": [
  {
   "cell_type": "markdown",
   "metadata": {},
   "source": [
    "# Python 4. 함수\n",
    "\n",
    "1. 양의 정수 x를 입력 받아 제곤근의 근사값을 반환하는 함수를 작성하세요.\n",
    " * 이분법(정렬)\n",
    " * sqrt()  사용 금지"
   ]
  },
  {
   "cell_type": "code",
   "execution_count": 161,
   "metadata": {},
   "outputs": [
    {
     "name": "stdout",
     "output_type": "stream",
     "text": [
      "1.9999999999999998\n"
     ]
    }
   ],
   "source": [
    "def my_sqrt(n):\n",
    "    a = 0\n",
    "    result = 0\n",
    "    while a**2 < n:\n",
    "        a += 1\n",
    "    b = a - 1\n",
    "    while (n - result**2) >= 1e-15:\n",
    "        if ((a + b) / 2)**2 <= n:\n",
    "            b = b + ((a - b) / 2)\n",
    "        else:\n",
    "            a = a - ((a - b) / 2)\n",
    "        result = b      \n",
    "    return result\n",
    "\n",
    "print(my_sqrt(4))"
   ]
  },
  {
   "cell_type": "code",
   "execution_count": null,
   "metadata": {},
   "outputs": [],
   "source": [
    "3 < sqrt(15)< 4   9 < 15 < 16     5 < sqrt(28) < 6    25 < 28 < 36\n"
   ]
  }
 ],
 "metadata": {
  "kernelspec": {
   "display_name": "Python 3",
   "language": "python",
   "name": "python3"
  },
  "language_info": {
   "codemirror_mode": {
    "name": "ipython",
    "version": 3
   },
   "file_extension": ".py",
   "mimetype": "text/x-python",
   "name": "python",
   "nbconvert_exporter": "python",
   "pygments_lexer": "ipython3",
   "version": "3.7.3"
  },
  "toc": {
   "base_numbering": 1,
   "nav_menu": {},
   "number_sections": true,
   "sideBar": true,
   "skip_h1_title": false,
   "title_cell": "Table of Contents",
   "title_sidebar": "Contents",
   "toc_cell": false,
   "toc_position": {},
   "toc_section_display": true,
   "toc_window_display": false
  }
 },
 "nbformat": 4,
 "nbformat_minor": 2
}
