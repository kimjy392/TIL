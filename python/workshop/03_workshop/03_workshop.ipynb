{
 "cells": [
  {
   "cell_type": "markdown",
   "metadata": {},
   "source": [
    "# 03_Workshop\n",
    "## Python 3. 함수\n",
    "1. Palindrome은 앞에서부터 읽었을 때와 뒤에서부터 읽었을 때 같은 단어를 뜻한다.\n",
    "따라서, ‘a’ ‘nan’ ’토마토’ 모두 palindrome에 해당합니다. 단어를 입력받아 Palindrome을 검증하고 True나 False를 리턴하는\n",
    "함수 palindrome(word)를 만들어보세요."
   ]
  },
  {
   "cell_type": "code",
   "execution_count": 10,
   "metadata": {},
   "outputs": [
    {
     "name": "stdout",
     "output_type": "stream",
     "text": [
      "기러기러기러기러기\n"
     ]
    },
    {
     "data": {
      "text/plain": [
       "True"
      ]
     },
     "execution_count": 10,
     "metadata": {},
     "output_type": "execute_result"
    }
   ],
   "source": [
    "def palindrome(word):\n",
    "    word_list = list(word)\n",
    "    word_list_rev = list(reversed(word_list))\n",
    "    count = 0\n",
    "    for idx, value in enumerate(word_list):\n",
    "        if word_list[idx] == word_list_rev[idx]:\n",
    "            count += 1\n",
    "    if count == len(word_list):\n",
    "        return True\n",
    "    else:\n",
    "        return False\n",
    "    \n",
    "\n",
    "string = input()\n",
    "palindrome(string)\n"
   ]
  },
  {
   "cell_type": "code",
   "execution_count": 22,
   "metadata": {},
   "outputs": [],
   "source": [
    "def palindrome_1(word):\n",
    "    # word 단어를 처음값 - 끝값 => len(word) // 2\n",
    "    for i in range(len(word)//2):\n",
    "        # 단어의 처음 - 끝을 비교해서 같으면,\n",
    "        if word[i] == word[-i-1]:\n",
    "            continue\n",
    "        # 다르면, Palindrome이 아니니까 False 리턴하고 더이상 확인하지 않는다.\n",
    "        else:\n",
    "            return False\n",
    "    # 다 끝나면, Palindronme이 맞으니까 \n",
    "    return True"
   ]
  },
  {
   "cell_type": "code",
   "execution_count": 27,
   "metadata": {},
   "outputs": [],
   "source": [
    "def palindrome_2(word):\n",
    "    for i in range(len(word)//2):\n",
    "        if word[i] != word[-i-1]:\n",
    "            return False\n",
    "    return True"
   ]
  },
  {
   "cell_type": "code",
   "execution_count": 28,
   "metadata": {},
   "outputs": [],
   "source": [
    "def palindrome_3(word):\n",
    "    if word == word[::-1]:    # 뒤집는 것\n",
    "        return True\n",
    "    else:\n",
    "        return False\n",
    "        "
   ]
  },
  {
   "cell_type": "code",
   "execution_count": 29,
   "metadata": {},
   "outputs": [],
   "source": [
    "def palindrome_4(word):\n",
    "    return True if word == word[::-1] else False"
   ]
  }
 ],
 "metadata": {
  "kernelspec": {
   "display_name": "Python 3",
   "language": "python",
   "name": "python3"
  },
  "language_info": {
   "codemirror_mode": {
    "name": "ipython",
    "version": 3
   },
   "file_extension": ".py",
   "mimetype": "text/x-python",
   "name": "python",
   "nbconvert_exporter": "python",
   "pygments_lexer": "ipython3",
   "version": "3.7.3"
  },
  "toc": {
   "base_numbering": 1,
   "nav_menu": {},
   "number_sections": true,
   "sideBar": true,
   "skip_h1_title": false,
   "title_cell": "Table of Contents",
   "title_sidebar": "Contents",
   "toc_cell": false,
   "toc_position": {},
   "toc_section_display": true,
   "toc_window_display": false
  }
 },
 "nbformat": 4,
 "nbformat_minor": 2
}
