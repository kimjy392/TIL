{
 "cells": [
  {
   "cell_type": "code",
   "execution_count": 95,
   "metadata": {},
   "outputs": [
    {
     "ename": "SyntaxError",
     "evalue": "invalid syntax (<ipython-input-95-b6cb8585d0c3>, line 22)",
     "output_type": "error",
     "traceback": [
      "\u001b[1;36m  File \u001b[1;32m\"<ipython-input-95-b6cb8585d0c3>\"\u001b[1;36m, line \u001b[1;32m22\u001b[0m\n\u001b[1;33m    for num in range(len(movie_info['genres'])):\u001b[0m\n\u001b[1;37m      ^\u001b[0m\n\u001b[1;31mSyntaxError\u001b[0m\u001b[1;31m:\u001b[0m invalid syntax\n"
     ]
    }
   ],
   "source": [
    "import requests\n",
    "from decouple import config\n",
    "import pprint\n",
    "import csv\n",
    "\n",
    "key = config('KEY')\n",
    "movie_detail = {}\n",
    "\n",
    "with open('boxoffice.csv', 'r', encoding = 'utf-8') as f:\n",
    "    reader = csv.DictReader(f)\n",
    "    for row in reader:\n",
    "        movieCd = row['영화 대표코드']\n",
    "        api_url = f'http://www.kobis.or.kr/kobisopenapi/webservice/rest/movie/searchMovieInfo.json?key={key}&movieCd={movieCd}'\n",
    "        response = requests.get(api_url).json()\n",
    "        movie_info = response['movieInfoResult']['movieInfo']\n",
    "\n",
    "        movie_detail[movie_info['movieCd']] = {\n",
    "        '영화 대표코드': movie_info['movieCd'], \n",
    "        '영화명': movie_info['movieNm'], \n",
    "        '영화명(원문)': movie_info['movieNmEn'],\n",
    "        '관람등급': movie_info['audits'][0]['watchGradeNm'] if movie_info['audits'] else None,\n",
    "        '개봉연도': movie_info['openDt'],\n",
    "        '장르': movie_info['genres'][0]['genreNm'],\n",
    "        '감독명': movie_info['directors'][0]['peopleNm'] if  movie_info['directors'] else None\n",
    "    }\n",
    "\n",
    "with open('movie.csv', 'w', encoding='utf-8') as f:\n",
    "    fieldnames = ['영화 대표코드', '영화명', '영화명(원문)', '관람등급', '개봉연도', '장르', '감독명'] # 여기만 생성\n",
    "    csv_writer = csv.DictWriter(f, fieldnames=fieldnames)\n",
    "    csv_writer.writeheader()\n",
    "    for item in movie_detail.values(): # 딕셔너리 만든 것 반복\n",
    "        csv_writer.writerow(item)"
   ]
  }
 ],
 "metadata": {
  "kernelspec": {
   "display_name": "Python 3",
   "language": "python",
   "name": "python3"
  },
  "language_info": {
   "codemirror_mode": {
    "name": "ipython",
    "version": 3
   },
   "file_extension": ".py",
   "mimetype": "text/x-python",
   "name": "python",
   "nbconvert_exporter": "python",
   "pygments_lexer": "ipython3",
   "version": "3.7.4"
  },
  "toc": {
   "base_numbering": 1,
   "nav_menu": {},
   "number_sections": true,
   "sideBar": true,
   "skip_h1_title": false,
   "title_cell": "Table of Contents",
   "title_sidebar": "Contents",
   "toc_cell": false,
   "toc_position": {},
   "toc_section_display": true,
   "toc_window_display": false
  }
 },
 "nbformat": 4,
 "nbformat_minor": 2
}
