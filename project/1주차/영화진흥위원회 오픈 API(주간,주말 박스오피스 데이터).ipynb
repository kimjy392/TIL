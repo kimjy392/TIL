{
 "cells": [
  {
   "cell_type": "code",
   "execution_count": 1,
   "metadata": {
    "scrolled": true
   },
   "outputs": [],
   "source": [
    "import requests\n",
    "from decouple import config\n",
    "import csv\n",
    "from datetime import datetime, timedelta\n",
    "\n",
    "boxoffice_result = {}\n",
    "key = config('KEY')\n",
    "\n",
    "for i in range(0, 50):\n",
    "    targetDt = str(datetime(2018, 8, 4) + timedelta(weeks=i))\n",
    "    targetDt = targetDt[:10].replace('-','')\n",
    "    api_url = f'http://www.kobis.or.kr/kobisopenapi/webservice/rest/boxoffice/searchWeeklyBoxOfficeList.json?key={key}&targetDt={targetDt}&weekGb=0'\n",
    "    response = requests.get(api_url).json()\n",
    "    for movie in response.get('boxOfficeResult').get('weeklyBoxOfficeList'):\n",
    "        boxoffice_result[movie['movieCd']] = {\n",
    "            '영화 대표코드': movie['movieCd'], \n",
    "            '영화명' : movie['movieNm'], \n",
    "            '누적관람객': movie['audiAcc']\n",
    "        }\n",
    "\n",
    "\n",
    "with open('boxoffice.csv', 'w', encoding='utf-8') as f:\n",
    "    fieldnames = ['영화 대표코드', '영화명', '누적관람객'] # 여기만 생성\n",
    "    csv_writer = csv.DictWriter(f, fieldnames=fieldnames)\n",
    "    csv_writer.writeheader()\n",
    "    for item in boxoffice_result.values(): # 딕셔너리 만든 것 반복\n",
    "        csv_writer.writerow(item)\n"
   ]
  }
 ],
 "metadata": {
  "kernelspec": {
   "display_name": "Python 3",
   "language": "python",
   "name": "python3"
  },
  "language_info": {
   "codemirror_mode": {
    "name": "ipython",
    "version": 3
   },
   "file_extension": ".py",
   "mimetype": "text/x-python",
   "name": "python",
   "nbconvert_exporter": "python",
   "pygments_lexer": "ipython3",
   "version": "3.7.4"
  },
  "toc": {
   "base_numbering": 1,
   "nav_menu": {},
   "number_sections": true,
   "sideBar": true,
   "skip_h1_title": false,
   "title_cell": "Table of Contents",
   "title_sidebar": "Contents",
   "toc_cell": false,
   "toc_position": {},
   "toc_section_display": true,
   "toc_window_display": false
  }
 },
 "nbformat": 4,
 "nbformat_minor": 2
}
