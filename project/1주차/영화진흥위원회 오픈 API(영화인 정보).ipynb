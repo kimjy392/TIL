{
 "cells": [
  {
   "cell_type": "code",
   "execution_count": 7,
   "metadata": {
    "scrolled": true
   },
   "outputs": [],
   "source": [
    "import requests\n",
    "import pprint\n",
    "import csv\n",
    "\n",
    "key = '2961dcb2e4336ffa43975ece6fdaec32'\n",
    "people = {}\n",
    "\n",
    "with open('movie.csv', 'r', encoding = 'utf-8') as f:\n",
    "    reader = csv.DictReader(f)\n",
    "    for row in reader:\n",
    "        peopleNm = (row['감독명'],row['영화명'])\n",
    "        api_url = f'http://www.kobis.or.kr/kobisopenapi/webservice/rest/people/searchPeopleList.json?key={key}&peopleNm={peopleNm[0]}'\n",
    "        response = requests.get(api_url).json()\n",
    "        people_info = response['peopleListResult']['peopleList']\n",
    "        for info in people_info:\n",
    "            if info['peopleNm'] == peopleNm[0] and   peopleNm[1] in info['filmoNames']:\n",
    "                people[info['peopleCd']] = {\n",
    "                    '영화인 코드': info['peopleCd'],\n",
    "                    '영화인 명': info['peopleNm'],\n",
    "                    '분야' : info['repRoleNm'],\n",
    "                    '필모리스트': info['filmoNames']\n",
    "                }\n",
    "            \n",
    "with open('director.csv', 'w', encoding='utf-8') as f:\n",
    "    fieldnames = ['영화인 코드', '영화인 명', '분야', '필모리스트'] # 여기만 생성\n",
    "    csv_writer = csv.DictWriter(f, fieldnames=fieldnames)\n",
    "    csv_writer.writeheader()\n",
    "    for item in people.values(): # 딕셔너리 만든 것 반복\n",
    "        csv_writer.writerow(item)"
   ]
  },
  {
   "cell_type": "code",
   "execution_count": 4,
   "metadata": {},
   "outputs": [
    {
     "name": "stdout",
     "output_type": "stream",
     "text": [
      "미드소마\n"
     ]
    }
   ],
   "source": [
    "print(movie_name)"
   ]
  }
 ],
 "metadata": {
  "kernelspec": {
   "display_name": "Python 3",
   "language": "python",
   "name": "python3"
  },
  "language_info": {
   "codemirror_mode": {
    "name": "ipython",
    "version": 3
   },
   "file_extension": ".py",
   "mimetype": "text/x-python",
   "name": "python",
   "nbconvert_exporter": "python",
   "pygments_lexer": "ipython3",
   "version": "3.7.4"
  },
  "toc": {
   "base_numbering": 1,
   "nav_menu": {},
   "number_sections": true,
   "sideBar": true,
   "skip_h1_title": false,
   "title_cell": "Table of Contents",
   "title_sidebar": "Contents",
   "toc_cell": false,
   "toc_position": {},
   "toc_section_display": true,
   "toc_window_display": false
  }
 },
 "nbformat": 4,
 "nbformat_minor": 2
}
